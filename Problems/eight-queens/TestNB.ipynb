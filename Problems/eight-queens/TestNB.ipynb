{
 "cells": [
  {
   "attachments": {},
   "cell_type": "markdown",
   "metadata": {},
   "source": [
    "# Imports"
   ]
  },
  {
   "cell_type": "code",
   "execution_count": 1,
   "metadata": {},
   "outputs": [],
   "source": [
    "from Problem import Problem"
   ]
  },
  {
   "attachments": {},
   "cell_type": "markdown",
   "metadata": {},
   "source": [
    "# Constants"
   ]
  },
  {
   "cell_type": "code",
   "execution_count": 2,
   "metadata": {},
   "outputs": [],
   "source": [
    "N_QUEENS = 8\n",
    "N_DIMENSIONS = 8\n",
    "N_TESTS = 1000"
   ]
  },
  {
   "attachments": {},
   "cell_type": "markdown",
   "metadata": {},
   "source": [
    "# Running AI Algorithms"
   ]
  },
  {
   "cell_type": "code",
   "execution_count": 6,
   "metadata": {},
   "outputs": [
    {
     "name": "stdout",
     "output_type": "stream",
     "text": [
      "Board:\n",
      "0 0 0 0 0 0 0 1\n",
      "0 0 0 1 0 0 0 0\n",
      "0 0 1 0 1 0 0 0\n",
      "0 0 0 0 0 0 0 0\n",
      "0 0 0 0 1 1 0 0\n",
      "0 0 0 0 0 0 0 0\n",
      "0 0 0 0 0 0 0 0\n",
      "0 0 0 1 0 1 0 0\n",
      "{'level_node': 7, 'tree_nodes': 1533}\n"
     ]
    }
   ],
   "source": [
    "chess_problem = Problem(n_dim=N_DIMENSIONS, n_queens=N_QUEENS)\n",
    "chess_problem.start_board()\n",
    "chess_problem.print_current_state()\n",
    "result_node = chess_problem.simmulated_annealing(print_actions=False, print_board=False, max_spaces=N_DIMENSIONS)\n",
    "print(chess_problem.get_stats(result_node))"
   ]
  },
  {
   "cell_type": "markdown",
   "metadata": {},
   "source": []
  },
  {
   "cell_type": "markdown",
   "metadata": {},
   "source": []
  }
 ],
 "metadata": {
  "kernelspec": {
   "display_name": "env-ai-algorithms",
   "language": "python",
   "name": "python3"
  },
  "language_info": {
   "codemirror_mode": {
    "name": "ipython",
    "version": 3
   },
   "file_extension": ".py",
   "mimetype": "text/x-python",
   "name": "python",
   "nbconvert_exporter": "python",
   "pygments_lexer": "ipython3",
   "version": "3.7.9"
  },
  "orig_nbformat": 4
 },
 "nbformat": 4,
 "nbformat_minor": 2
}
