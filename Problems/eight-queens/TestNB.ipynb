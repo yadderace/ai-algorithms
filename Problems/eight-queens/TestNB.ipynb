{
 "cells": [
  {
   "attachments": {},
   "cell_type": "markdown",
   "metadata": {},
   "source": [
    "# Imports"
   ]
  },
  {
   "cell_type": "code",
   "execution_count": 18,
   "metadata": {},
   "outputs": [],
   "source": [
    "from Problem import Problem"
   ]
  },
  {
   "attachments": {},
   "cell_type": "markdown",
   "metadata": {},
   "source": [
    "# Constants"
   ]
  },
  {
   "cell_type": "code",
   "execution_count": 19,
   "metadata": {},
   "outputs": [],
   "source": [
    "N_QUEENS = 8\n",
    "N_DIMENSIONS = 8\n",
    "N_TESTS = 1000"
   ]
  },
  {
   "attachments": {},
   "cell_type": "markdown",
   "metadata": {},
   "source": [
    "# Running AI Algorithms"
   ]
  },
  {
   "cell_type": "code",
   "execution_count": 20,
   "metadata": {},
   "outputs": [
    {
     "name": "stdout",
     "output_type": "stream",
     "text": [
      "8\n",
      "Board:\n",
      "0 1 0 1 0 0 0 0\n",
      "0 0 1 0 0 1 0 0\n",
      "0 0 0 1 0 0 0 0\n",
      "0 0 0 0 0 0 0 0\n",
      "0 0 0 0 0 0 0 0\n",
      "0 0 0 0 1 0 1 0\n",
      "0 0 0 0 0 0 0 0\n",
      "0 0 1 0 0 0 0 0\n"
     ]
    },
    {
     "ename": "AttributeError",
     "evalue": "'Problem' object has no attribute 'get_stats'",
     "output_type": "error",
     "traceback": [
      "\u001b[0;31m---------------------------------------------------------------------------\u001b[0m",
      "\u001b[0;31mAttributeError\u001b[0m                            Traceback (most recent call last)",
      "\u001b[0;32m/var/folders/4v/d7_yzy0s03b_6qh6zddlsnqm0000gn/T/ipykernel_93431/2443837639.py\u001b[0m in \u001b[0;36m<module>\u001b[0;34m\u001b[0m\n\u001b[1;32m      3\u001b[0m \u001b[0mchess_problem\u001b[0m\u001b[0;34m.\u001b[0m\u001b[0mprint_current_state\u001b[0m\u001b[0;34m(\u001b[0m\u001b[0;34m)\u001b[0m\u001b[0;34m\u001b[0m\u001b[0;34m\u001b[0m\u001b[0m\n\u001b[1;32m      4\u001b[0m \u001b[0mresult_node\u001b[0m \u001b[0;34m=\u001b[0m \u001b[0mchess_problem\u001b[0m\u001b[0;34m.\u001b[0m\u001b[0msimmulated_annealing\u001b[0m\u001b[0;34m(\u001b[0m\u001b[0mprint_actions\u001b[0m\u001b[0;34m=\u001b[0m\u001b[0;32mFalse\u001b[0m\u001b[0;34m,\u001b[0m \u001b[0mprint_board\u001b[0m\u001b[0;34m=\u001b[0m\u001b[0;32mFalse\u001b[0m\u001b[0;34m,\u001b[0m \u001b[0mmax_spaces\u001b[0m\u001b[0;34m=\u001b[0m\u001b[0mN_DIMENSIONS\u001b[0m\u001b[0;34m)\u001b[0m\u001b[0;34m\u001b[0m\u001b[0;34m\u001b[0m\u001b[0m\n\u001b[0;32m----> 5\u001b[0;31m \u001b[0mprint\u001b[0m\u001b[0;34m(\u001b[0m\u001b[0mchess_problem\u001b[0m\u001b[0;34m.\u001b[0m\u001b[0mget_stats\u001b[0m\u001b[0;34m(\u001b[0m\u001b[0mresult_node\u001b[0m\u001b[0;34m)\u001b[0m\u001b[0;34m)\u001b[0m\u001b[0;34m\u001b[0m\u001b[0;34m\u001b[0m\u001b[0m\n\u001b[0m",
      "\u001b[0;31mAttributeError\u001b[0m: 'Problem' object has no attribute 'get_stats'"
     ]
    }
   ],
   "source": [
    "chess_problem = Problem(n_dim=N_DIMENSIONS, n_queens=N_QUEENS)\n",
    "chess_problem.start_board()\n",
    "chess_problem.print_current_state()\n",
    "result_node = chess_problem.simmulated_annealing(print_actions=False, print_board=False, max_spaces=N_DIMENSIONS)\n",
    "print(chess_problem.get_stats(result_node))"
   ]
  },
  {
   "cell_type": "markdown",
   "metadata": {},
   "source": []
  }
 ],
 "metadata": {
  "kernelspec": {
   "display_name": "env-ai-algorithms",
   "language": "python",
   "name": "python3"
  },
  "language_info": {
   "codemirror_mode": {
    "name": "ipython",
    "version": 3
   },
   "file_extension": ".py",
   "mimetype": "text/x-python",
   "name": "python",
   "nbconvert_exporter": "python",
   "pygments_lexer": "ipython3",
   "version": "3.7.9"
  },
  "orig_nbformat": 4
 },
 "nbformat": 4,
 "nbformat_minor": 2
}
